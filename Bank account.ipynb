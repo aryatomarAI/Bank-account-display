{
 "cells": [
  {
   "cell_type": "code",
   "execution_count": 1,
   "metadata": {},
   "outputs": [],
   "source": [
    "#Object Oriented Programming Challenge\n",
    "##For this challenge, create a bank account class that has two attributes:\n",
    "##owner\n",
    "#balance\n",
    "#and two methods:\n",
    "\n",
    "#deposit\n",
    "#withdraw\n",
    "#As an added requirement, withdrawals may not exceed the available balance.\n",
    "\n",
    "#Instantiate your class, make several deposits and withdrawals, and test to make sure the account can't be overdrawn."
   ]
  },
  {
   "cell_type": "code",
   "execution_count": 74,
   "metadata": {},
   "outputs": [],
   "source": [
    "class Account:\n",
    "    def __init__(self,owner,balance):\n",
    "        self.owner=owner\n",
    "        self.balance=balance\n",
    "        \n",
    "        print ('Account Owner : {}'.format(self.owner))\n",
    "        print ('Account Balance: Rs.{}'.format(self.balance))\n",
    "    def deposit(self,cash_depo):\n",
    "        self.balance += cash_depo\n",
    "        print ('Cash is deposited to your account')\n",
    "        print ('Your account balance is Rs.{}'.format(self.balance))\n",
    "        \n",
    "    def withraw(self,cash_wit):\n",
    "        if self.balance >= cash_wit:\n",
    "            self.balance -= cash_wit\n",
    "            print('Request for withrawal is accepted')\n",
    "            print('Account balance after withrawal is Rs.{}'.format(self.balance))\n",
    "        else:\n",
    "            print('Last Transaction failed')\n",
    "            print('Funds are low')\n",
    "            \n",
    "        \n",
    "        \n",
    "        "
   ]
  },
  {
   "cell_type": "code",
   "execution_count": 75,
   "metadata": {},
   "outputs": [
    {
     "name": "stdout",
     "output_type": "stream",
     "text": [
      "Account Owner : Arya\n",
      "Account Balance: Rs.50\n"
     ]
    }
   ],
   "source": [
    "my_acc=Account('Arya',50)"
   ]
  },
  {
   "cell_type": "code",
   "execution_count": 76,
   "metadata": {},
   "outputs": [
    {
     "name": "stdout",
     "output_type": "stream",
     "text": [
      "Cash is deposited to your account\n",
      "Your account balance is Rs.80\n"
     ]
    }
   ],
   "source": [
    "my_acc.deposit(30)"
   ]
  },
  {
   "cell_type": "code",
   "execution_count": 77,
   "metadata": {},
   "outputs": [
    {
     "name": "stdout",
     "output_type": "stream",
     "text": [
      "Request for withrawal is accepted\n",
      "Account balance after withrawal is Rs.60\n"
     ]
    }
   ],
   "source": [
    "my_acc.withraw(20)"
   ]
  },
  {
   "cell_type": "code",
   "execution_count": 78,
   "metadata": {},
   "outputs": [
    {
     "name": "stdout",
     "output_type": "stream",
     "text": [
      "Cash is deposited to your account\n",
      "Your account balance is Rs.260\n"
     ]
    }
   ],
   "source": [
    "my_acc.deposit(200)"
   ]
  },
  {
   "cell_type": "code",
   "execution_count": 79,
   "metadata": {},
   "outputs": [
    {
     "name": "stdout",
     "output_type": "stream",
     "text": [
      "Last Transaction failed\n",
      "Funds are low\n"
     ]
    }
   ],
   "source": [
    "my_acc.withraw(300)"
   ]
  },
  {
   "cell_type": "code",
   "execution_count": null,
   "metadata": {},
   "outputs": [],
   "source": []
  }
 ],
 "metadata": {
  "kernelspec": {
   "display_name": "Python 3",
   "language": "python",
   "name": "python3"
  },
  "language_info": {
   "codemirror_mode": {
    "name": "ipython",
    "version": 3
   },
   "file_extension": ".py",
   "mimetype": "text/x-python",
   "name": "python",
   "nbconvert_exporter": "python",
   "pygments_lexer": "ipython3",
   "version": "3.7.3"
  }
 },
 "nbformat": 4,
 "nbformat_minor": 2
}
